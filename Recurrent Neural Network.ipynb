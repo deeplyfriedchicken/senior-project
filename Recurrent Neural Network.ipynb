{
 "cells": [
  {
   "cell_type": "code",
   "execution_count": 8,
   "metadata": {},
   "outputs": [
    {
     "name": "stdout",
     "output_type": "stream",
     "text": [
      "finished\n"
     ]
    }
   ],
   "source": [
    "import numpy as np\n",
    "import tensorflow as tf\n",
    "from os import listdir\n",
    "from os.path import isfile, join\n",
    "import re\n",
    "from random import randint\n",
    "import datetime\n",
    "import time\n",
    "from sklearn.utils import shuffle\n",
    "import matplotlib.pyplot as plt\n",
    "\n",
    "# Removes punctuation, parentheses, question marks, etc., and leaves only alphanumeric characters\n",
    "strip_special_chars = re.compile(\"[^A-Za-z0-9 ]+\")\n",
    "\n",
    "def cleanSentences(string):\n",
    "    string = string.lower().replace(\"<br />\", \" \")\n",
    "    return re.sub(strip_special_chars, \"\", string.lower())\n",
    "\n",
    "maxSeqLength = 20 #Maximum length of sentence\n",
    "numDimensions = 300 #Dimensions for each word vector\n",
    "    \n",
    "wordsList = np.load('wordsList.npy')\n",
    "wordsList = wordsList.tolist() #Originally loaded as numpy array\n",
    "wordsList = [word.decode('UTF-8') for word in wordsList] #Encode words as UTF-8\n",
    "wordVectors = np.load('wordVectors.npy')\n",
    "\n",
    "# generate log files here\n",
    "ts = time.time()\n",
    "st = datetime.datetime.fromtimestamp(ts).strftime('%Y-%m-%d %H:%M:%S')\n",
    "print(\"finished\")"
   ]
  },
  {
   "cell_type": "code",
   "execution_count": 9,
   "metadata": {},
   "outputs": [
    {
     "name": "stdout",
     "output_type": "stream",
     "text": [
      "Positive files finished\n",
      "Negative files finished\n"
     ]
    },
    {
     "data": {
      "image/png": "[encoded data removed]",
      "text/plain": [
       "<matplotlib.figure.Figure at 0x11cc2cef0>"
      ]
     },
     "metadata": {},
     "output_type": "display_data"
    }
   ],
   "source": [
    "positiveFiles = ['positive/' + f for f in listdir('positive/') if isfile(join('positive/', f))]\n",
    "negativeFiles = ['negative/' + f for f in listdir('negative/') if isfile(join('negative/', f))]\n",
    "numWords = []\n",
    "for pf in positiveFiles:\n",
    "    with open(pf, \"r\", encoding='utf-8') as f:\n",
    "        line=f.readline()\n",
    "        counter = len(line.split())\n",
    "        numWords.append(counter)       \n",
    "print('Positive files finished')\n",
    "\n",
    "minLength = len(positiveFiles)\n",
    "\n",
    "for nf in negativeFiles:\n",
    "    with open(nf, \"r\", encoding='utf-8') as f:\n",
    "        line=f.readline()\n",
    "        counter = len(line.split())\n",
    "        numWords.append(counter)  \n",
    "print('Negative files finished')\n",
    "\n",
    "if (minLength > len(negativeFiles)):\n",
    "    minLength = len(negativeFiles)\n",
    "\n",
    "numFiles = len(numWords)\n",
    "\n",
    "ids = np.zeros((minLength*2, maxSeqLength), dtype='int32')\n",
    "labels = []\n",
    "fileCounter = 0\n",
    "counter = 0\n",
    "for pf in positiveFiles:\n",
    "    if (counter >= minLength):\n",
    "        break\n",
    "    with open(pf, \"r\") as f:\n",
    "        indexCounter = 0\n",
    "        line=f.readline()\n",
    "        cleanedLine = cleanSentences(line)\n",
    "        split = cleanedLine.split()\n",
    "        for word in split:\n",
    "            try:\n",
    "                ids[fileCounter][indexCounter] = wordsList.index(word)\n",
    "            except ValueError:\n",
    "                ids[fileCounter][indexCounter] = 399999 #Vector for unkown words\n",
    "            indexCounter = indexCounter + 1\n",
    "            if indexCounter >= maxSeqLength:\n",
    "                break\n",
    "        labels.append([1,0])\n",
    "        fileCounter = fileCounter + 1\n",
    "        counter = counter + 1\n",
    "\n",
    "counter = 0\n",
    "for nf in negativeFiles:\n",
    "    if (counter > minLength):\n",
    "        break\n",
    "    with open(nf, \"r\") as f:\n",
    "        indexCounter = 0\n",
    "        line=f.readline()\n",
    "        cleanedLine = cleanSentences(line)\n",
    "        split = cleanedLine.split()\n",
    "        for word in split:\n",
    "            try:\n",
    "                ids[fileCounter][indexCounter] = wordsList.index(word)\n",
    "            except ValueError:\n",
    "                ids[fileCounter][indexCounter] = 399999 #Vector for unkown words\n",
    "            indexCounter = indexCounter + 1\n",
    "            if indexCounter >= maxSeqLength:\n",
    "                break\n",
    "        labels.append([0,1])\n",
    "        fileCounter = fileCounter + 1 \n",
    "        counter = counter + 1\n",
    "#Pass into embedding function and see if it evaluates. \n",
    "\n",
    "labels = np.asarray(labels)\n",
    "np.save('idsMatrix', ids)\n",
    "np.save('labels', labels)\n",
    "\n",
    "plt.hist(numWords, 50)\n",
    "plt.xlabel('Sequence Length')\n",
    "plt.ylabel('Frequency')\n",
    "plt.axis([0, 50, 0, 1000])\n",
    "plt.show()\n",
    "plt.savefig(\"figures/{}-histogram.png\".format(st), format='png')\n",
    "# generate log files here"
   ]
  },
  {
   "cell_type": "code",
   "execution_count": 10,
   "metadata": {
    "collapsed": true
   },
   "outputs": [],
   "source": [
    "ids = np.load('idsMatrix.npy')\n",
    "labels = np.load('labels.npy')\n",
    "\n",
    "ids, labels = shuffle(ids, labels, random_state = 0)\n",
    "lastTrainingIndex = int(round(len(ids) * .90))\n",
    "ids = np.split(ids, [lastTrainingIndex, len(ids)])\n",
    "labels = np.split(labels, [lastTrainingIndex, len(labels)])\n",
    "trainingLabels = labels[0]\n",
    "testingLabels = labels[1]\n",
    "trainingIds = ids[0]\n",
    "testingIds = ids[1]\n",
    "\n",
    "def getTrainBatch(counter):\n",
    "    label = []\n",
    "    arr = np.zeros([batchSize, maxSeqLength])\n",
    "    for i in range(batchSize):\n",
    "        arr[i] = trainingIds[counter-1:counter]\n",
    "        label.append(trainingLabels[counter-1])\n",
    "        if (counter >= len(trainingIds) - 1):\n",
    "            counter = 1\n",
    "        else:\n",
    "            counter = counter + 1\n",
    "    return arr, label, counter\n",
    "\n",
    "def getTestBatch(counter):\n",
    "    label = []\n",
    "    arr = np.zeros([batchSize, maxSeqLength])\n",
    "    for i in range(batchSize):\n",
    "        arr[i] = testingIds[counter-1:counter]\n",
    "        label.append(testingLabels[counter-1])\n",
    "        if (counter >= len(testingIds) - 1):\n",
    "            counter = 1\n",
    "        else:\n",
    "            counter = counter + 1\n",
    "    return arr, label, counter\n",
    "\n",
    "batchSize = 24\n",
    "lstmUnits = 64\n",
    "numClasses = 2\n",
    "iterations = 1000\n",
    "\n",
    "tf.reset_default_graph()\n",
    "\n",
    "labels = tf.placeholder(tf.float32, [batchSize, numClasses])\n",
    "input_data = tf.placeholder(tf.int32, [batchSize, maxSeqLength])\n",
    "\n",
    "data = tf.Variable(tf.zeros([batchSize, maxSeqLength, numDimensions]),dtype=tf.float32)\n",
    "data = tf.nn.embedding_lookup(wordVectors,input_data)\n",
    "\n",
    "lstmCell = tf.contrib.rnn.BasicLSTMCell(lstmUnits)\n",
    "lstmCell = tf.contrib.rnn.DropoutWrapper(cell=lstmCell, output_keep_prob=0.75)\n",
    "value, _ = tf.nn.dynamic_rnn(lstmCell, data, dtype=tf.float32)\n",
    "\n",
    "weight = tf.Variable(tf.truncated_normal([lstmUnits, numClasses]))\n",
    "bias = tf.Variable(tf.constant(0.1, shape=[numClasses]))\n",
    "value = tf.transpose(value, [1, 0, 2])\n",
    "last = tf.gather(value, int(value.get_shape()[0]) - 1)\n",
    "prediction = (tf.matmul(last, weight) + bias)\n",
    "\n",
    "correctPred = tf.equal(tf.argmax(prediction,1), tf.argmax(labels,1))\n",
    "accuracy = tf.reduce_mean(tf.cast(correctPred, tf.float32))\n",
    "\n",
    "loss = tf.reduce_mean(tf.nn.softmax_cross_entropy_with_logits(logits=prediction, labels=labels))\n",
    "optimizer = tf.train.AdamOptimizer().minimize(loss)\n",
    "\n",
    "sess = tf.InteractiveSession()\n",
    "saver = tf.train.Saver()\n",
    "sess.run(tf.global_variables_initializer())\n",
    "\n",
    "tf.summary.scalar('Loss', loss)\n",
    "tf.summary.scalar('Accuracy', accuracy)\n",
    "merged = tf.summary.merge_all()\n",
    "logdir = \"tensorboard/\" + datetime.datetime.now().strftime(\"%Y%m%d-%H%M%S\") + \"/\"\n",
    "writer = tf.summary.FileWriter(logdir, sess.graph)"
   ]
  },
  {
   "cell_type": "code",
   "execution_count": 11,
   "metadata": {},
   "outputs": [
    {
     "name": "stdout",
     "output_type": "stream",
     "text": [
      "finished\n"
     ]
    }
   ],
   "source": [
    "counter = 1\n",
    "for i in range(iterations):\n",
    "   #Next Batch of reviews\n",
    "   nextBatch, nextBatchLabels, counter = getTrainBatch(counter)\n",
    "   sess.run(optimizer, {input_data: nextBatch, labels: nextBatchLabels})\n",
    "   \n",
    "   #Write summary to Tensorboard\n",
    "   if (i % 50 == 0):\n",
    "       summary = sess.run(merged, {input_data: nextBatch, labels: nextBatchLabels})\n",
    "       writer.add_summary(summary, i)\n",
    "\n",
    "   #Save the network every 10,000 training iterations\n",
    "   if (i % 10000 == 0 and i != 0):\n",
    "       save_path = saver.save(sess, \"models/pretrained_lstm.ckpt\", global_step=i)\n",
    "       print(\"saved to %s\" % save_path)\n",
    "writer.close()\n",
    "\n",
    "print(\"finished\")"
   ]
  },
  {
   "cell_type": "code",
   "execution_count": 12,
   "metadata": {},
   "outputs": [
    {
     "name": "stdout",
     "output_type": "stream",
     "text": [
      "INFO:tensorflow:Restoring parameters from models/pretrained_lstm.ckpt-100000\n"
     ]
    }
   ],
   "source": [
    "saver.restore(sess, tf.train.latest_checkpoint('models'))\n",
    "\n",
    "counter = 1\n",
    "\n",
    "iterations = 10000\n",
    "# for i in range(iterations):\n",
    "#     nextBatch, nextBatchLabels, counter = getTestBatch(counter)\n",
    "#     print(\"Accuracy for this batch:\", (sess.run(accuracy, {input_data: nextBatch, labels: nextBatchLabels})) * 100)\n",
    "#     runlog.write(\"Accuracy for this batch: {}\\n\".format((sess.run(accuracy, {input_data: nextBatch, labels: nextBatchLabels})) * 100))\n",
    "\n",
    "pp = 0\n",
    "nn = 0\n",
    "npp = 0\n",
    "pn = 0\n",
    "\n",
    "for i in range(iterations):\n",
    "    nextBatch, nextBatchLabels, counter = getTestBatch(counter)\n",
    "    predictions = sess.run(prediction, {input_data: nextBatch, labels: nextBatchLabels})\n",
    "    for index in range(len(predictions)):\n",
    "        positive_sentiment, negative_sentiment = predictions[index][0], predictions[index][1]\n",
    "        if (positive_sentiment > negative_sentiment):\n",
    "            if ([1,0] == nextBatchLabels[index].tolist()):\n",
    "                pp = pp + 1\n",
    "            else:\n",
    "                npp = npp + 1\n",
    "        else:\n",
    "            if ([0,1] == nextBatchLabels[index].tolist()):\n",
    "                nn = nn + 1\n",
    "            else:\n",
    "                pn = pn + 1"
   ]
  },
  {
   "cell_type": "code",
   "execution_count": 14,
   "metadata": {},
   "outputs": [
    {
     "name": "stdout",
     "output_type": "stream",
     "text": [
      "done\n"
     ]
    }
   ],
   "source": [
    "runlog = open(\"logs/{}.txt\".format(st),\"w+\")\n",
    "runlog.write(\"Sequence Length: {}\\n\".format(maxSeqLength))\n",
    "runlog.write(\"# of Dimensions: {}\\n\".format(numDimensions))\n",
    "runlog.write('# of files: {}\\n'.format(numFiles))\n",
    "runlog.write('Total # of words: {}\\n'.format(sum(numWords)))\n",
    "runlog.write('Average # of words: {}\\n'.format(sum(numWords)/len(numWords)))\n",
    "runlog.write('# of files per class: {}\\n'.format(minLength))\n",
    "runlog.write(\"Batch Size: {}\\n\".format(batchSize))\n",
    "runlog.write(\"Number of Classes: {}\\n\".format(numClasses))\n",
    "runlog.write(\"Training Iterations: {}\\n\".format(iterations))\n",
    "runlog.write(\"Testing Accuracy: {}\\n\".format((pp + nn) /(pp + nn + npp + pn)))\n",
    "runlog.close()\n",
    "\n",
    "print(\"done\")"
   ]
  },
  {
   "cell_type": "code",
   "execution_count": null,
   "metadata": {
    "collapsed": true
   },
   "outputs": [],
   "source": []
  }
 ],
 "metadata": {
  "kernelspec": {
   "display_name": "Python 3",
   "language": "python",
   "name": "python3"
  },
  "language_info": {
   "codemirror_mode": {
    "name": "ipython",
    "version": 3
   },
   "file_extension": ".py",
   "mimetype": "text/x-python",
   "name": "python",
   "nbconvert_exporter": "python",
   "pygments_lexer": "ipython3",
   "version": "3.5.4"
  }
 },
 "nbformat": 4,
 "nbformat_minor": 2
}
